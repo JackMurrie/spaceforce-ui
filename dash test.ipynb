{
 "cells": [
  {
   "cell_type": "code",
   "execution_count": 1,
   "metadata": {},
   "outputs": [],
   "source": [
    "import dash\n",
    "import pandas as pd\n",
    "from dash.dependencies import Input, Output, State\n",
    "import dash_bootstrap_components as dbc\n",
    "from dash import Dash, dcc, html, Input, Output\n",
    "from dash import dash_table\n",
    "\n",
    "import plotly.express as px\n",
    "import re\n",
    "import time\n",
    "import io\n",
    "import imageio.v2 as imageio\n"
   ]
  },
  {
   "cell_type": "code",
   "execution_count": 2,
   "metadata": {},
   "outputs": [],
   "source": [
    "data = pd.read_csv(\"Dummy US Data.csv\")"
   ]
  },
  {
   "cell_type": "code",
   "execution_count": 3,
   "metadata": {},
   "outputs": [],
   "source": [
    "external_stylesheets = [\n",
    "    {\n",
    "        \"href\": \"https://fonts.googleapis.com/css2?\"\n",
    "                \"family=Lato:wght@400;700&display=swap\",\n",
    "        \"rel\": \"stylesheet\",\n",
    "    },\n",
    "]"
   ]
  },
  {
   "cell_type": "code",
   "execution_count": 4,
   "metadata": {},
   "outputs": [
    {
     "name": "stdout",
     "output_type": "stream",
     "text": [
      "Dash is running on http://127.0.0.1:8600/\n",
      "\n",
      " * Serving Flask app '__main__' (lazy loading)\n",
      " * Environment: production\n",
      "\u001b[31m   WARNING: This is a development server. Do not use it in a production deployment.\u001b[0m\n",
      "\u001b[2m   Use a production WSGI server instead.\u001b[0m\n",
      " * Debug mode: off\n"
     ]
    },
    {
     "name": "stderr",
     "output_type": "stream",
     "text": [
      " * Running on http://127.0.0.1:8600 (Press CTRL+C to quit)\n",
      "127.0.0.1 - - [08/Jun/2022 14:46:47] \"GET / HTTP/1.1\" 200 -\n",
      "127.0.0.1 - - [08/Jun/2022 14:46:47] \"GET /assets/image_annotation_style.css?m=1654652494.220138 HTTP/1.1\" 304 -\n",
      "127.0.0.1 - - [08/Jun/2022 14:46:47] \"GET /_dash-component-suites/dash/dcc/dash_core_components-shared.js.map HTTP/1.1\" 200 -\n",
      "127.0.0.1 - - [08/Jun/2022 14:46:47] \"GET /_dash-component-suites/dash/dcc/dash_core_components.js.map HTTP/1.1\" 200 -\n",
      "127.0.0.1 - - [08/Jun/2022 14:46:47] \"GET /_dash-component-suites/dash/html/dash_html_components.min.js.map HTTP/1.1\" 200 -\n",
      "127.0.0.1 - - [08/Jun/2022 14:46:47] \"GET /_dash-layout HTTP/1.1\" 200 -\n",
      "127.0.0.1 - - [08/Jun/2022 14:46:47] \"GET /_dash-component-suites/dash/dash_table/bundle.js.map HTTP/1.1\" 200 -\n",
      "127.0.0.1 - - [08/Jun/2022 14:46:47] \"GET /_dash-dependencies HTTP/1.1\" 200 -\n",
      "127.0.0.1 - - [08/Jun/2022 14:46:47] \"GET /_favicon.ico?v=2.4.1 HTTP/1.1\" 200 -\n",
      "127.0.0.1 - - [08/Jun/2022 14:46:48] \"POST /_dash-update-component HTTP/1.1\" 200 -\n",
      "127.0.0.1 - - [08/Jun/2022 14:46:49] \"POST /_dash-update-component HTTP/1.1\" 200 -\n"
     ]
    }
   ],
   "source": [
    "app = dash.Dash(__name__, external_stylesheets=external_stylesheets)\n",
    "app.title = \"SpaceForce Analytics\"\n",
    "\n",
    "app.layout = html.Div([\n",
    "    dcc.Tabs(id=\"tabs-styled-with-props\", value='tab-1', children=[\n",
    "        dcc.Tab(label='Live', value='tab-1'),\n",
    "        dcc.Tab(label='Data Analytics', value='tab-2'),\n",
    "        dcc.Tab(label='Video', value='tab-3')\n",
    "    ], colors={\n",
    "        \"border\": \"white\",\n",
    "        \"primary\": \"yellow\",\n",
    "        \"background\": \"cornsilk\"\n",
    "    }),\n",
    "    html.Div(id='tabs-content-props')\n",
    "])\n",
    "\n",
    "\n",
    "@app.callback(Output('tabs-content-props', 'children'),\n",
    "              Input('tabs-styled-with-props', 'value'))\n",
    "\n",
    "def render_content(tab):\n",
    "    if tab == 'tab-1':\n",
    "        return html.Div([\n",
    "            html.H3('Live Data TBC...')\n",
    "        ])\n",
    "    elif tab == 'tab-2':\n",
    "        return tab2_content\n",
    "    elif tab == 'tab-3':\n",
    "        return html.Div(children = [\n",
    "            html.Video(\n",
    "                controls = True,\n",
    "                id = 'movie_player',\n",
    "                src = 'file:///C:\\Katrina\\2022\\Programming\\spaceforce-ui\\stream-69.ts',\n",
    "                autoPlay = True),\n",
    "        ])\n",
    "\n",
    "\n",
    "\n",
    "tab2_content = html.Div(\n",
    "    children=[\n",
    "        html.Div(\n",
    "            children=dcc.Graph(\n",
    "                id=\"distance-chart\",\n",
    "                config={\"displayModeBar\": False},\n",
    "                figure={\n",
    "                    \"data\": [\n",
    "                        {\n",
    "                            \"x\": data[\"Date\"],\n",
    "                            \"y\": data[\"Distance\"],\n",
    "                            \"type\": \"lines\",\n",
    "                            \"hovertemplate\": \"%{y:.2f}\"\n",
    "                                                \"<extra></extra>\",\n",
    "                        },\n",
    "                    ],\n",
    "                    \"layout\": {\n",
    "                        \"title\": {\n",
    "                            \"text\": \"Sensor Distance\",\n",
    "                            \"x\": 0.05,\n",
    "                            \"xanchor\": \"left\",\n",
    "                        },\n",
    "                        \"xaxis\": {\"fixedrange\": True},\n",
    "                        \"yaxis\": {\n",
    "                            \"tickprefix\": \"\",\n",
    "                            \"fixedrange\": True,\n",
    "                        },\n",
    "                        \"colorway\": [\"#17B897\"],\n",
    "                    },\n",
    "                },\n",
    "            ),\n",
    "            className=\"card\",\n",
    "        ),\n",
    "    ],\n",
    "    className=\"wrapper\",\n",
    ")\n",
    "\n",
    "\n",
    "if __name__ == '__main__':\n",
    "    app.run_server(debug=False, port = 8600)"
   ]
  }
 ],
 "metadata": {
  "interpreter": {
   "hash": "31e4be03584fc58a8409fe3976ad8740c6fccce3f886711c8552c6fb1f15c674"
  },
  "kernelspec": {
   "display_name": "Python 3.10.5 64-bit",
   "language": "python",
   "name": "python3"
  },
  "language_info": {
   "codemirror_mode": {
    "name": "ipython",
    "version": 3
   },
   "file_extension": ".py",
   "mimetype": "text/x-python",
   "name": "python",
   "nbconvert_exporter": "python",
   "pygments_lexer": "ipython3",
   "version": "3.10.5"
  },
  "orig_nbformat": 4
 },
 "nbformat": 4,
 "nbformat_minor": 2
}
